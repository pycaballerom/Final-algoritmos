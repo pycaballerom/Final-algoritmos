{
 "cells": [
  {
   "cell_type": "markdown",
   "metadata": {
    "collapsed": true
   },
   "source": [
    "# Pancakes"
   ]
  },
  {
   "cell_type": "code",
   "execution_count": null,
   "metadata": {
    "collapsed": true
   },
   "outputs": [],
   "source": [
    "#code recolected from http://www.pd4cs.org/program-algorithms_6_pancake-py/\n",
    "import itertools\n",
    "def flipCakes(cakes,position):\n",
    "        top_cakes = cakes[0:position+1]\n",
    "        top_cakes.reverse()\n",
    "        bottom_cakes = cakes[position+1:]\n",
    "        flips.append(len(bottom_cakes))\n",
    "        return top_cakes+bottom_cakes"
   ]
  },
  {
   "cell_type": "code",
   "execution_count": null,
   "metadata": {
    "collapsed": true
   },
   "outputs": [],
   "source": [
    "def getingArr(array):\n",
    "    string = \"\"\n",
    "    for j in range(0, len(array)):\n",
    "        string = string + str(array[j]) + \"\"\n",
    "    return string"
   ]
  },
  {
   "cell_type": "code",
   "execution_count": null,
   "metadata": {
    "collapsed": true
   },
   "outputs": [],
   "source": [
    "def arrangeCakes(cakes):\n",
    "        largest = len(cakes)\n",
    "        count = 0\n",
    "        while largest != 1:\n",
    "                if(largest != (cakes.index(largest)+1)):\n",
    "                        #if the next largest pancake to position is not on the top, flip to get it there\n",
    "                        if(cakes.index(largest)!= 0):\n",
    "                                cakes = flipCakes(cakes, cakes.index(largest))\n",
    "                                count += 1\n",
    "                                print('Step',count)\n",
    "                                printLine()\n",
    "                                printCakes(cakes)\n",
    " \n",
    "                        #once the next largest pancake to position is one top, flip\n",
    "                        cakes = flipCakes(cakes,largest -1)\n",
    "                        count += 1\n",
    "                        largest -= 1\n",
    "                        print('Step',count)\n",
    "                        printLine()\n",
    "                        printCakes(cakes)\n",
    "                else:\n",
    "                        largest -= 1\n",
    "        return count"
   ]
  },
  {
   "cell_type": "code",
   "execution_count": null,
   "metadata": {
    "collapsed": true
   },
   "outputs": [],
   "source": [
    "def printFlips(numCakes):\n",
    "    arr = list(range(1, numCakes+1))\n",
    "    for i in itertools.printFlips(arr, numCakes):\n",
    "        i = list(i)\n",
    "\n",
    "        numFlips = arrangeCakes(i)\n",
    "        array = getingArr(i)\n",
    "        flips = getingArr(flips)\n",
    "        flips.clear()\n",
    "\n",
    "        print(array, numFlips, flips)\n",
    "printFlips(5)"
   ]
  }
 ],
 "metadata": {
  "kernelspec": {
   "display_name": "Python 2",
   "language": "python",
   "name": "python2"
  },
  "language_info": {
   "codemirror_mode": {
    "name": "ipython",
    "version": 2
   },
   "file_extension": ".py",
   "mimetype": "text/x-python",
   "name": "python",
   "nbconvert_exporter": "python",
   "pygments_lexer": "ipython2",
   "version": "2.7.12"
  }
 },
 "nbformat": 4,
 "nbformat_minor": 2
}

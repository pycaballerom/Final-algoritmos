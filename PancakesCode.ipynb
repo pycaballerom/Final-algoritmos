{
 "cells": [
  {
   "cell_type": "code",
   "execution_count": null,
   "metadata": {
    "collapsed": true
   },
   "outputs": [],
   "source": [
    "# Codigo obtenido de: https://www.geeksforgeeks.org/pancake-sorting/\n",
    "\n",
    "# Python3 program to\n",
    "# sort array using\n",
    "# pancake sort\n",
    " \n",
    "# Reverses arr[0..i] */\n",
    "def flip(arr, i):\n",
    "    start = 0\n",
    "    while start < i:\n",
    "        temp = arr[start]\n",
    "        arr[start] = arr[i]\n",
    "        arr[i] = temp\n",
    "        start += 1\n",
    "        i -= 1"
   ]
  },
  {
   "cell_type": "code",
   "execution_count": null,
   "metadata": {
    "collapsed": true
   },
   "outputs": [],
   "source": [
    "# Returns index of the maximum\n",
    "# element in arr[0..n-1] */\n",
    "def findMax(arr, n):\n",
    "    mi = 0\n",
    "    for i in range(0,n):\n",
    "        if arr[i] > arr[mi]:\n",
    "            mi = i\n",
    "    return mi"
   ]
  },
  {
   "cell_type": "code",
   "execution_count": null,
   "metadata": {
    "collapsed": true
   },
   "outputs": [],
   "source": [
    "# The main function that \n",
    "# sorts given array \n",
    "# using flip operations\n",
    "def pancakeSort(arr, n):\n",
    "     \n",
    "    # Start from the complete\n",
    "    # array and one by one\n",
    "    # reduce current size\n",
    "    # by one\n",
    "    curr_size = n\n",
    "    while curr_size > 1:\n",
    "        # Find index of the maximum\n",
    "        # element in \n",
    "        # arr[0..curr_size-1]\n",
    "        mi = findMax(arr, curr_size)\n",
    " \n",
    "        # Move the maximum element\n",
    "        # to end of current array\n",
    "        # if it's not already at \n",
    "        # the end\n",
    "        if mi != curr_size-1:\n",
    "            # To move at the end, \n",
    "            # first move maximum \n",
    "            # number to beginning \n",
    "            flip(arr, mi)\n",
    " \n",
    "            # Now move the maximum \n",
    "            # number to end by\n",
    "            # reversing current array\n",
    "            flip(arr, curr_size-1)\n",
    "        curr_size -= 1\n",
    " "
   ]
  },
  {
   "cell_type": "code",
   "execution_count": null,
   "metadata": {
    "collapsed": true
   },
   "outputs": [],
   "source": [
    "def permutations(N, c):\n",
    "    array = list(range(1, N + 1))\n",
    "    print(\"Pn = \", N)\n",
    "    for i in itertools.permutations(array, N):\n",
    "        i = list(i)\n",
    "\n",
    "        # Total de volteos\n",
    "        total_flips = arrayPancake(i)\n",
    "        # Array original\n",
    "        array_original = spaces(i)\n",
    "        # Volteos\n",
    "        res_flips = spaces(flips)\n",
    "\n",
    "        # Inicializar los volteos\n",
    "        flips.clear()\n",
    "\n",
    "        if c == 1:\n",
    "            # Imprime Pn y todas las permutacionesq ue gastan este tiempo\n",
    "            if total_flips == N:\n",
    "                print(array_original)\n",
    "        elif c == 2:\n",
    "            # Escribe Pn con todas las permutaciones y sus flips\n",
    "            print(array_original, res_flips)\n",
    "        elif c > 2:\n",
    "            # Escribe Pn con todas las permutaciones, total de pasos y sus flips\n",
    "            print(array_original, total_flips, res_flips)\n"
   ]
  },
  {
   "cell_type": "code",
   "execution_count": null,
   "metadata": {
    "collapsed": true
   },
   "outputs": [],
   "source": [
    "n=5\n",
    "c=3\n",
    "permutations(N, c)"
   ]
  }
 ],
 "metadata": {
  "kernelspec": {
   "display_name": "Python 2",
   "language": "python",
   "name": "python2"
  },
  "language_info": {
   "codemirror_mode": {
    "name": "ipython",
    "version": 2
   },
   "file_extension": ".py",
   "mimetype": "text/x-python",
   "name": "python",
   "nbconvert_exporter": "python",
   "pygments_lexer": "ipython2",
   "version": "2.7.12"
  }
 },
 "nbformat": 4,
 "nbformat_minor": 2
}
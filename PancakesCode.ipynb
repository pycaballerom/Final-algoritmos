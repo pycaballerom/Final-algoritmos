{
 "cells": [
  {
   "cell_type": "code",
   "execution_count": null,
   "metadata": {
    "collapsed": true
   },
   "outputs": [],
   "source": [
    "# Codigo obtenido de: https://www.geeksforgeeks.org/pancake-sorting/\n",
    "\n",
    "# Python3 program to\n",
    "# sort array using\n",
    "# pancake sort\n",
    " \n",
    "# Reverses arr[0..i] */\n",
    "def flip(arr, i):\n",
    "    start = 0\n",
    "    while start < i:\n",
    "        temp = arr[start]\n",
    "        arr[start] = arr[i]\n",
    "        arr[i] = temp\n",
    "        start += 1\n",
    "        #imprimir numero de flip y permutacion \n",
    "        print(start)\n",
    "        print(arr)\n",
    "        i -= 1"
   ]
  },
  {
   "cell_type": "code",
   "execution_count": null,
   "metadata": {
    "collapsed": true
   },
   "outputs": [],
   "source": [
    "# Returns index of the minimum\n",
    "# element in arr[0..n-1] */\n",
    "def findMin(arr, n):\n",
    "    mi = 0\n",
    "    for i in range(0,n):\n",
    "        if arr[i] < arr[mi]:\n",
    "            mi = i\n",
    "    return mi"
   ]
  },
  {
   "cell_type": "code",
   "execution_count": null,
   "metadata": {
    "collapsed": true
   },
   "outputs": [],
   "source": [
    "# The main function that \n",
    "# sorts given array \n",
    "# using flip operations\n",
    "def pancakeSort(arr, n):\n",
    "     \n",
    "    # Start from the complete\n",
    "    # array and one by one\n",
    "    # reduce current size\n",
    "    # by one\n",
    "    curr_size = n\n",
    "    while curr_size > 1:\n",
    "        # Find index of the maximum\n",
    "        # element in \n",
    "        # arr[0..curr_size-1]\n",
    "        mi = findMax(arr, curr_size)\n",
    " \n",
    "        # Move the maximum element\n",
    "        # to end of current array\n",
    "        # if it's not already at \n",
    "        # the end\n",
    "        if mi != curr_size-1:\n",
    "            # To move at the end, \n",
    "            # first move maximum \n",
    "            # number to beginning \n",
    "            flip(arr, mi)\n",
    " \n",
    "            # Now move the maximum \n",
    "            # number to end by\n",
    "            # reversing current array\n",
    "            flip(arr, curr_size-1)\n",
    "        curr_size -= 1\n",
    " "
   ]
  },
  {
   "cell_type": "code",
   "execution_count": null,
   "metadata": {
    "collapsed": true
   },
   "outputs": [],
   "source": [
   "# A utility function to \n",
   "# print an array of size n \n",
   "def printArray(arr, n):\n",
   "    for i in range(0,n):\n",
   "        print ('%d'%( arr[i]),end=' ')\n",
   " \n",
   "# Driver program \n",
   "arr = [1,2,3,4]\n",
   "n = len(arr)\n",
   "pancakeSort(arr, n);\n",
   "print ('Sorted Array ')\n",
   "printArray(arr,n)\n",
   " "
   ]
  }
 ],
 "metadata": {
  "kernelspec": {
   "display_name": "Python 2",
   "language": "python",
   "name": "python2"
  },
  "language_info": {
   "codemirror_mode": {
    "name": "ipython",
    "version": 2
   },
   "file_extension": ".py",
   "mimetype": "text/x-python",
   "name": "python",
   "nbconvert_exporter": "python",
   "pygments_lexer": "ipython2",
   "version": "2.7.12"
  }
 },
 "nbformat": 4,
 "nbformat_minor": 2
}

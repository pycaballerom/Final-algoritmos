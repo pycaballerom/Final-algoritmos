{
 "cells": [
  {
   "cell_type": "markdown",
   "metadata": {
    "collapsed": true
   },
   "source": [
    "# QuickSort"
   ]
  },
  {
   "cell_type": "code",
   "execution_count": null,
   "metadata": {},
   "outputs": [],
   "source": [
    "import random\n",
    "import statistics\n",
    "import math\n",
    "\n",
    "import matplotlib.pyplot as plt\n",
    "%matplotlib inline"
   ]
  },
  {
   "cell_type": "code",
   "execution_count": null,
   "metadata": {},
   "outputs": [],
   "source": [
    "def randomquicksort(alist,times):\n",
    "   comp = [0]\n",
    "   randomquicksorthelper(alist,0,len(alist)-1,comp)\n",
    "   times.append(comp[0])"
   ]
  },
  {
   "cell_type": "code",
   "execution_count": 60,
   "metadata": {},
   "outputs": [],
   "source": [
    "\n",
    "def randomquicksorthelper(alist,first,last,comp):\n",
    "   if first<last:\n",
    "\n",
    "       r = randompartition(alist,first,last)\n",
    "       splitpoint = r[0]\n",
    "       tmp = comp.pop()\n",
    "       comp.append(tmp+r[1])\n",
    "    \n",
    "       randomquicksorthelper(alist,first,splitpoint-1,comp)\n",
    "       randomquicksorthelper(alist,splitpoint+1,last,comp)"
   ]
  },
  {
   "cell_type": "code",
   "execution_count": 61,
   "metadata": {},
   "outputs": [],
   "source": [
    "def randompartition(alist,first,last):\n",
    "  \n",
    "   indxpiv = random.randint(first,last)\n",
    "   temp = alist[indxpiv]\n",
    "   alist[indxpiv] = alist[first]\n",
    "   alist[first] = temp\n",
    "   \n",
    "   pivotvalue = alist[first]\n",
    "   compspart = 0\n",
    "\n",
    "   leftmark = first+1\n",
    "   rightmark = last\n",
    "\n",
    "   done = False\n",
    "   while not done:\n",
    "\n",
    "       while leftmark <= rightmark and alist[leftmark] <= pivotvalue:\n",
    "           leftmark = leftmark + 1\n",
    "           compspart = compspart + 1\n",
    "       compspart = compspart + 1\n",
    "\n",
    "       while alist[rightmark] >= pivotvalue and rightmark >= leftmark:\n",
    "           rightmark = rightmark -1\n",
    "           compspart = compspart + 1\n",
    "       compspart = compspart + 1\n",
    "\n",
    "       if rightmark < leftmark:\n",
    "           done = True\n",
    "       else:\n",
    "           temp = alist[leftmark]\n",
    "           alist[leftmark] = alist[rightmark]\n",
    "           alist[rightmark] = temp\n",
    "\n",
    "   temp = alist[first]\n",
    "   alist[first] = alist[rightmark]\n",
    "   alist[rightmark] = temp\n",
    "\n",
    "\n",
    "   return rightmark,compspart\n"
   ]
  },
  {
   "cell_type": "code",
   "execution_count": 62,
   "metadata": {},
   "outputs": [],
   "source": [
    "def RandomQuickSortTime(s, r):\n",
    "    # Create an array of 1 .. n\n",
    "    n = s\n",
    "    runs = r\n",
    "    x = []\n",
    "    for i in range(1, n + 1):\n",
    "        x.append(n + 1 - i)\n",
    "\n",
    "        # Run quicksort for each permutation\n",
    "    tlist = []\n",
    "    for p in range(1, runs + 1):\n",
    "        y = list(x)\n",
    "        QuickSort(y, tlist)\n",
    "\n",
    "    count = 0\n",
    "    for i in range(len(tlist)):\n",
    "        if (tlist[i] >= 96):\n",
    "            count += 1\n",
    "\n",
    "    plt.hist(tlist, bins='auto', color='black')\n",
    "    plt.title(\"Number of comparison of Quicksort for all permutaions\")\n",
    "    plt.xlabel(\"Comparisons of elements\")\n",
    "    plt.ylabel(\"Frequency\")\n",
    "    plt.show()\n",
    "\n",
    "    print \"N:\", n\n",
    "    print \"Runs:\", runs\n",
    "    print \"Promedio teorico:\", 16 * math.log(16) / math.log(2)\n",
    "    print \"Promedio experimental:\", statistics.mean(tlist)\n",
    "    print \"Diferencia entre promedio teorico y experimental:\", statistics.mean(tlist) - 16 * math.log(16) / math.log(2)\n",
    "    print \"Desviacion estandar:\", statistics.stdev(tlist)\n",
    "    print \"Probabilidad que se demore 1.5 más que el promedio:\", float(count) / float(len(tlist))\n",
    "    print \"Min:\", min(tlist)\n",
    "    print \"Max:\", max(tlist)"
   ]
  },
  {
   "cell_type": "code",
   "execution_count": 63,
   "metadata": {},
   "outputs": [
    {
     "data": {
      "image/png": "[encoded data removed]",
      "text/plain": [
       "<matplotlib.figure.Figure at 0x17e9ac10>"
      ]
     },
     "metadata": {},
     "output_type": "display_data"
    },
    {
     "name": "stdout",
     "output_type": "stream",
     "text": [
      "N: 16\n",
      "Runs: 10000000\n",
      "Promedio teorico: 64.0\n",
      "Promedio experimental: 83.6645058\n",
      "Diferencia entre promedio teorico y experimental: 19.6645058\n",
      "Desviacion estandar: 7.09159948607\n",
      "Probabilidad que se demore 1.5 más que el promedio: 0.0658262\n",
      "Min: 67\n",
      "Max: 142\n"
     ]
    }
   ],
   "source": [
    "randomQuickSortTime(16,10000000)"
   ]
  },
  {
   "cell_type": "code",
   "execution_count": null,
   "metadata": {},
   "outputs": [],
   "source": [
    "Pruebas            Tiempo \n",
    "1000000            1.23 minutos\n",
    "2636203            3 minutos\n",
    "10000000           11.38 minutos\n",
    "26362038           30 minutos\n",
    "263620386,6432     300 minutos = 5 horas\n"
   ]
  }
 ],
 "metadata": {
  "kernelspec": {
   "display_name": "Python 2",
   "language": "python",
   "name": "python2"
  },
  "language_info": {
   "codemirror_mode": {
    "name": "ipython",
    "version": 2
   },
   "file_extension": ".py",
   "mimetype": "text/x-python",
   "name": "python",
   "nbconvert_exporter": "python",
   "pygments_lexer": "ipython2",
   "version": "2.7.11"
  }
 },
 "nbformat": 4,
 "nbformat_minor": 1
}
